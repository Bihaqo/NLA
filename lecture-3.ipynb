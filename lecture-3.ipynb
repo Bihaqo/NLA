{
 "metadata": {
  "name": "",
  "signature": "sha256:14565a81470a68e22e8406c7de75d2e0a855881d087685399d5e1493c078abb2"
 },
 "nbformat": 3,
 "nbformat_minor": 0,
 "worksheets": [
  {
   "cells": [
    {
     "cell_type": "heading",
     "level": 1,
     "metadata": {
      "slideshow": {
       "slide_type": "slide"
      }
     },
     "source": [
      "Lecture 3: Scalar product, orthogonality, matrix rank"
     ]
    },
    {
     "cell_type": "markdown",
     "metadata": {
      "slideshow": {
       "slide_type": "slide"
      }
     },
     "source": [
      "## Syllabus\n",
      "**Week 2:** Matrices, vectors, norms, ranks\n"
     ]
    },
    {
     "cell_type": "markdown",
     "metadata": {
      "slideshow": {
       "slide_type": "slide"
      }
     },
     "source": [
      "##Recap of the previous lecture\n",
      "- Norms are measures of smallness, used to compute the accuracy\n",
      "- Definition of $1$, $p$ and Euclidean norms\n",
      "- Matrix norms\n",
      "- $L$_1 norm is used in compressed sensing as a surrogate for sparsity."
     ]
    },
    {
     "cell_type": "markdown",
     "metadata": {},
     "source": [
      "## Today lecture\n",
      "Today we will talk about:\n",
      "- Scalar products and unitary (orthogonal) matrices\n",
      "- Rank of the matrix\n",
      "- Singular value decomposition (SVD) and low-rank approximation"
     ]
    },
    {
     "cell_type": "markdown",
     "metadata": {},
     "source": [
      "## Scalar product\n",
      "If norm is a measure of distances, then the scalar product take angle into account.  \n",
      "The scalar product is defined as\n",
      "$$\n",
      "   (x, y) = \\sum_{i=1}^n \\overline{x}_i y_i,\n",
      "$$\n",
      "where $\\overline{x}$ denotes the *complex conjugate* of $x$. The Euclidean norm is then\n",
      "$$\n",
      "   \\Vert x \\Vert^2 = (x, x),\n",
      "$$\n",
      "or it is said the the norm is **induced** by matrix products.  "
     ]
    },
    {
     "cell_type": "markdown",
     "metadata": {},
     "source": [
      "**Remark** For the angle between two vectors is defined as\n",
      "$$\n",
      "   \\cos \\phi = \\frac{(x, y)}{\\Vert x \\Vert \\Vert y \\Vert} \n",
      "$$"
     ]
    },
    {
     "cell_type": "markdown",
     "metadata": {},
     "source": [
      "An important property of the scalar product is the **Cauchy-Bunyakovski inequality**:\n",
      "$$\n",
      "    (x, y) \\leq \\Vert x \\Vert \\Vert y \\Vert,\n",
      "$$\n",
      "and thus the angle between two vectors is defined properly."
     ]
    },
    {
     "cell_type": "markdown",
     "metadata": {},
     "source": [
      "The scalar product can be written as a matrix-by-matrix product  \n",
      "$$\n",
      "  (x, y) = x^* y,\n",
      "$$\n",
      "where $^*$ is a **conjugate transpose** of the matrix:  \n",
      "$$\n",
      "B = A^*, \\quad B_{ij} = \\overline{A_{ji}}.\n",
      "$$"
     ]
    },
    {
     "cell_type": "markdown",
     "metadata": {},
     "source": [
      "## Norm conservation\n",
      "For stability it is really important that the error do not grow. Suppose that you approximately get a vector,  \n",
      "$$\n",
      "  \\Vert x - \\widehat{x} \\Vert \\leq \\varepsilon.\n",
      "$$\n",
      "Then the final result is (some) linear transformation of $x$:  \n",
      "$$\n",
      "   y = Ux, \\quad \\widehat{y} = U \\widehat{x}.\n",
      "$$\n",
      "If we want to estimate a difference between $\\widehat{y}$ and $y$:  \n",
      "$$\n",
      "   \\Vert y - \\widehat{y} \\Vert = \\Vert U ( x - \\widehat{x}) \\Vert \\leq \\Vert U \\Vert \\varepsilon.\n",
      "$$\n",
      "The question is for which kind of matrices the length of the vector **will not change**. For the euclidean norm this produces a very important class of matrices: **unitary** (or orthogonal in the real case) matrices."
     ]
    },
    {
     "cell_type": "markdown",
     "metadata": {},
     "source": [
      "## Unitary (orthogonal) matrices\n",
      "Let $U$ be an $n \\times r$ matrix, and $\\Vert U z \\Vert = \\Vert z \\Vert$ for all $z$. This can happen if and only if  \n",
      "$$\n",
      "   U^* U = I,\n",
      "$$\n",
      "where $I$ is an **identity matrix**\n",
      "Indeee, $$\\Vert Uz \\Vert^2 = (Uz, Uz) = (Uz)^* Uz = z^* (U^* U) z = z^* z,$$ \n",
      "which can also hold if $U^* U = I$."
     ]
    },
    {
     "cell_type": "markdown",
     "metadata": {},
     "source": [
      "## Unitary matrices\n",
      "In the real case, when $U^* = U^{\\top}$, the matrix is called orthogonal.  \n",
      "Are there many unitary matrices? First of all, a product of two unitary matrices is a unitary matrix:  \n",
      "$$(UV)^* UV = V^* (U^* U) V = V^* V = I,$$\n",
      "thus if we give some non-trivial examples of unitary matrices, we will be able to get any unitary transformation."
     ]
    },
    {
     "cell_type": "markdown",
     "metadata": {},
     "source": [
      "## Examples of unitary matrices\n",
      "There are two important classes of unitary matrices:\n",
      "1. Householder matrices\n",
      "2. Givens (Jacobi) matrices"
     ]
    },
    {
     "cell_type": "markdown",
     "metadata": {},
     "source": [
      "## Householder matrices\n",
      "Householder matrix is the matrix of the form  \n",
      "$$H = I - 2 vv^*,$$\n",
      "where $u$ is an $n \\times 1$ matrix and $v^* v = I$. Can you show that $H$ is unitary?  It is also a reflection. <img src=\"householder.jpeg\">  \n",
      "A simple proof: $H^* H = (I - 2 vv^*)(I - 2 v v^*) = I$"
     ]
    },
    {
     "cell_type": "markdown",
     "metadata": {},
     "source": [
      "## Givens(Jacobi) matrix\n",
      "A Givens matrix is a matrix  \n",
      "$$\n",
      "    A = \\begin{bmatrix}\n",
      "          \\cos \\alpha & \\sin \\alpha \\\\\n",
      "          -\\sin \\alpha & \\cos \\alpha\n",
      "        \\end{bmatrix},\n",
      "$$\n",
      "which is a rotation. For a general case, we select two $(i, j)$ planes and rotate only in those:\n",
      "$$\n",
      "    x'_i = \\cos \\alpha x_i + \\sin \\alpha x_j, \\quad x'_j = -\\sin \\alpha x_i + \\cos\\alpha x_j,\n",
      "$$\n",
      "with all other $x_i$ remain unchanged."
     ]
    },
    {
     "cell_type": "markdown",
     "metadata": {},
     "source": [
      "## Summary on unitary matrices\n",
      "- Unitary matrices preserve the norm\n",
      "- There are two \"basic\" classes of unitary matrices, Householder and Givens.\n",
      "- Every unitary matrix can be represented as a product of those."
     ]
    },
    {
     "cell_type": "markdown",
     "metadata": {},
     "source": [
      "## Matrix and linear spaces\n",
      "A matrix can be considered as a sequence of vectors, its columns:\n",
      "$$\n",
      "   A = [a_1, \\ldots, a_m], \n",
      "$$\n",
      "where $a_m \\in \\mathbb{C}^n$.  \n",
      "A matrix-by-vector product is equivalent to taking a linear combination of those vectors  \n",
      "$$\n",
      "   y =  Ax, \\quad \\Longleftrightarrow y = a_1 x_1 + a_2 x_2 + \\ldots +a_m x_m.\n",
      "$$"
     ]
    },
    {
     "cell_type": "markdown",
     "metadata": {},
     "source": [
      "## Linear dependence\n",
      "The vectors are called linearly dependent, if there exist non-zero coefficients $x_i$ such that\n",
      "$$\\sum_i a_i x_i = 0,$$\n",
      "or in the matrix form,\n",
      "$$\n",
      "   Ax = 0, \\quad \\Vert x \\Vert \\ne 0.\n",
      "$$\n",
      "In this case, we say that the matrix $A$ has non-trivial **nullspace**."
     ]
    },
    {
     "cell_type": "markdown",
     "metadata": {},
     "source": [
      "## Dimension of a linear space\n",
      "A **linear space** is defined as all possible vectors of the form \n",
      "$$\n",
      "   \\sum_{i=1}^m a_i x_i, \n",
      "$$\n",
      "where $x_i$ are some coefficients and $a_i, i = 1, \\ldots, m$ are given vectors. In the matrix form, the linear space is a collection of the vectors of the form  \n",
      "$$A x.$$\n",
      "This set is also called the **range** of the matrix.\n"
     ]
    },
    {
     "cell_type": "markdown",
     "metadata": {},
     "source": [
      "## Matrix rank\n",
      "What is a matrix rank?  A matrix rank is defined as the maximal number of linearly independent columns in a matrix, or the **dimension of its column space**.  \n",
      "You can also use linear combination of rows to define the rank.  "
     ]
    },
    {
     "cell_type": "markdown",
     "metadata": {},
     "source": [
      "** Theorem**  \n",
      "The dimension of the column space of the matrix is equal to the dimension of the row space of the matrix."
     ]
    },
    {
     "cell_type": "markdown",
     "metadata": {},
     "source": [
      "## Skeleton decomposition\n",
      "A very useful representation for computation of the matrix rank is the **skeleton decomposition**, which can be graphically represented as follows:  \n",
      "<img src=\"cross-pic.png\">\n",
      "or in the matrix form\n",
      "$$\n",
      "   A = U \\widehat{A}^{-1} V^{\\top},\n",
      "$$\n",
      "where $U$ are some $r$ columns of $A$, $V^{\\top}$ are some rows of $A$, $\\widehat{A}$ is the submatrix on the intersection, which should be **nonsingular**.\n",
      "\n",
      "**Remark.**  \n",
      "An inverse of the matrix $P$ the matrix $Q = P^{-1}$ such that  \n",
      "$ P Q = QP = I$.  \n",
      "If the matrix is square and has full rank (i.e. equal to $n$) then the inverse exists."
     ]
    },
    {
     "cell_type": "markdown",
     "metadata": {},
     "source": [
      "## Proof for the skeleton decomposition\n",
      "Let $U$ be the $r$ columns based on the submatrix $\\widehat{A}$. Then they are linearly independent. Take any other column $u$ of $A$. Then it is a linear combination of the columns of $U$, i.e.  \n",
      "$u = U x$.  \n",
      "These are $n$ equations. We take $r$ of those corresponding to the rows that contain $\\widehat{A}$ and get the equation  \n",
      "$$\\widehat{u} = \\widehat{A} x,$$  therefore  \n",
      "$$x = \\widehat{A}^{-1} \\widehat{u},$$ and that gives us the result."
     ]
    },
    {
     "cell_type": "markdown",
     "metadata": {},
     "source": [
      "## A closer look\n",
      "Any rank-$r$ matrix can be written in the form\n",
      "$$A = U \\widehat{A}^{-1} V^{\\top},$$\n",
      "where $U$ is $n \\times r$, $V$ is $m \\times r$ and $\\widehat{A}$ is $r \\times r$, or \n",
      "$$\n",
      "   A = U' V'^{\\top}.\n",
      "$$\n",
      "So, every rank-$r$ matrix can be written as a product of a \"tall\" matrix $U'$ by a long matrix $V'$. "
     ]
    },
    {
     "cell_type": "markdown",
     "metadata": {},
     "source": [
      "In the index form, it is  \n",
      "$$\n",
      "   a_{ij} = \\sum_{\\alpha=1}^r u_{i \\alpha} v_{j \\alpha}.\n",
      "$$\n",
      "For rank 1 we have\n",
      "$$\n",
      "   a_{ij} = u_i v_j,\n",
      "$$\n",
      "i.e. it is a separation of indices and rank-$r$ is a sum of rank-$1$ matrices!"
     ]
    },
    {
     "cell_type": "markdown",
     "metadata": {},
     "source": [
      "###Storage\n",
      "It is interesting to note, that for the rank-$r$ matrix only $U$ and $V$ can be stored, which gives us $(n+m) r$ parameters, so it can be used for compression. We can also compute matrix-by-vector product much faster."
     ]
    },
    {
     "cell_type": "code",
     "collapsed": false,
     "input": [
      "import numpy as np\n",
      "n = 1000\n",
      "r = 10\n",
      "u = np.random.randn(n, r)\n",
      "v = np.random.randn(n, r)\n",
      "a = u.dot(v.T)\n",
      "x = np.random.randn(n)\n",
      "%timeit a.dot(x)\n",
      "%timeit u.dot(v.T.dot(x))"
     ],
     "language": "python",
     "metadata": {},
     "outputs": [
      {
       "output_type": "stream",
       "stream": "stdout",
       "text": [
        "1000 loops, best of 3: 674 \u00b5s per loop\n",
        "10000 loops, best of 3: 14.8 \u00b5s per loop"
       ]
      },
      {
       "output_type": "stream",
       "stream": "stdout",
       "text": [
        "\n"
       ]
      }
     ],
     "prompt_number": 25
    },
    {
     "cell_type": "code",
     "collapsed": false,
     "input": [
      "#Computing matrix rank\n",
      "import numpy as np\n",
      "n = 50 \n",
      "a = np.ones((n, n))\n",
      "print 'Rank of the matrix:', np.linalg.matrix_rank(a)\n",
      "b = a + 0 * np.random.randn(n, n)\n",
      "print 'Rank of the matrix:', np.linalg.matrix_rank(b)"
     ],
     "language": "python",
     "metadata": {},
     "outputs": [
      {
       "output_type": "stream",
       "stream": "stdout",
       "text": [
        "Rank of the matrix: 1\n",
        "Rank of the matrix: 1\n"
       ]
      }
     ],
     "prompt_number": 14
    },
    {
     "cell_type": "markdown",
     "metadata": {},
     "source": [
      "### Instability of the matrix rank\n",
      "For any rank-$r$ matrix $A$ with $r < \\min(m, n)$ there is a matrix $B$ such that its rank rank is equal to $\\min(m, n)$ and\n",
      "$$\n",
      " \\Vert A - B \\Vert = \\varepsilon.\n",
      "$$\n",
      "So, does this mean that numerically matrix rank has no meaning? (I.e., small perturbations lead to full rank)!  \n",
      "The solution is to compute the best **rank-r** approximation to a matrix."
     ]
    },
    {
     "cell_type": "markdown",
     "metadata": {},
     "source": [
      "## Singular value decomposition\n",
      "To compute low-rank approximation, we need to compute **singular value decomposition**.  \n",
      "Any matrix $A$ can be written as a product of three matrices:  \n",
      "$$\n",
      "   A = U \\Sigma V^*,\n",
      "$$\n",
      "where $U$ is an $n \\times K$ unitary matrix, $V$ is an $m \\times K$ unitary matrix, $K = \\min(m, n)$ $\\Sigma$ is a diagonal matrix with non-negative elements $\\sigma_1 \\geq  \\ldots, \\geq \\sigma_K$ on the diagonal. \n",
      "\n",
      "Computation of the best rank-$r$ approximation is equivalent to setting $\\sigma_{r+1}= 0, \\ldots, \\sigma_K = 0$. The error is then determined by the omitted singular value!  \n",
      "$$\n",
      "   \\min_{A_r} \\Vert A - A_r \\Vert = \\sigma_{r+1},\n",
      "$$\n",
      "that is why it is important to look at the decay of the singular vectors."
     ]
    },
    {
     "cell_type": "markdown",
     "metadata": {},
     "source": [
      "## Low-rank approximation via SVD\n",
      "$\\Vert A - A_r \\Vert = \\Vert U \\Sigma V^* - A_r \\Vert = \\Vert \\Sigma - U^* A_r V \\Vert$,  \n",
      "where we used that for spectral norm (and for the Frobenius as well) we have  \n",
      "\n",
      "$$\\Vert X Q \\Vert = \\Vert X \\Vert$$\n",
      "for any unitary $Q$ and  any matrix $X$. This is called **unitary equivalence** of the spectral norm (and Frobenius as well).  \n",
      "What is left is to note that the best rank-$r$ approximation of the diagonal matrix is its subdiagonal.  \n",
      "Computing the SVD is tricky; we will talk about the algorithms hidden in this computation later. But we already can do this in Python!"
     ]
    },
    {
     "cell_type": "code",
     "collapsed": false,
     "input": [
      "#Computing matrix rank\n",
      "import numpy as np\n",
      "n = 50 \n",
      "a = np.ones((n, n))\n",
      "print 'Rank of the matrix:', np.linalg.matrix_rank(a)\n",
      "b = a + 1e-5 * np.random.randn(n, n)\n",
      "print 'Rank of the matrix:', np.linalg.matrix_rank(b)"
     ],
     "language": "python",
     "metadata": {},
     "outputs": [
      {
       "output_type": "stream",
       "stream": "stdout",
       "text": [
        "Rank of the matrix: 1\n",
        "Rank of the matrix: 50\n"
       ]
      }
     ],
     "prompt_number": 16
    },
    {
     "cell_type": "code",
     "collapsed": false,
     "input": [
      "u, s, v = np.linalg.svd(b)\n",
      "print s[1]/s[0]\n",
      "r = 1\n",
      "u1 = u[:, :r]\n",
      "s1 = s[:r]\n",
      "v1 = v[:r, :]\n",
      "a1 = u1.dot(np.diag(s1).dot(v1))\n",
      "print np.linalg.norm(a - a1)) "
     ],
     "language": "python",
     "metadata": {},
     "outputs": [
      {
       "output_type": "stream",
       "stream": "stdout",
       "text": [
        "2.79817259973e-06\n"
       ]
      },
      {
       "metadata": {},
       "output_type": "pyout",
       "prompt_number": 21,
       "text": [
        "0.00010846855849342956"
       ]
      }
     ],
     "prompt_number": 21
    },
    {
     "cell_type": "markdown",
     "metadata": {},
     "source": [
      "Now we can do something more interesting, like function approximation"
     ]
    },
    {
     "cell_type": "code",
     "collapsed": false,
     "input": [
      "%matplotlib inline\n",
      "import prettyplotlib as ppl\n",
      "n = 1000\n",
      "a = [[1.0/(i+j+1) for i in xrange(n)] for j in xrange(n)] #Hilbert matrix \n",
      "a = np.array(a)\n",
      "u, s, v = np.linalg.svd(a)\n",
      "fig, ax = ppl.subplots(1, 1)\n",
      "ax.semilogy(s[1:30])\n",
      "#We have very good low-rank approximation of it!"
     ],
     "language": "python",
     "metadata": {},
     "outputs": [
      {
       "metadata": {},
       "output_type": "pyout",
       "prompt_number": 32,
       "text": [
        "[<matplotlib.lines.Line2D at 0x10f813a50>]"
       ]
      },
      {
       "metadata": {},
       "output_type": "display_data",
       "png": "[encoded data removed]",
       "text": [
        "<matplotlib.figure.Figure at 0x10ee42950>"
       ]
      }
     ],
     "prompt_number": 32
    },
    {
     "cell_type": "markdown",
     "metadata": {},
     "source": [
      "## Linear factor analysis & low-rank\n",
      "Consider a linear factor model, \n",
      "\n",
      "$$y = Ax, $$ where $y$ is a vector of length $n$, and $x$ is a vector of length $r$.  \n",
      "The data is organizes as samples: we observe vectors  \n",
      "$$y_1, \\ldots, y_T,$$\n",
      "then the factor model can be written as  \n",
      "$$\n",
      "  Y = AX,\n",
      "$$\n",
      "where $Y$ is $n \\times T$, $A$ is $n \\times r$ and $X$ is $r \\times T$. This is exactly a rank-$r$ model: it tells us that the vector lie in a small subspace!  \n",
      "We also can use SVD to recover this subspace (but not the independent components)."
     ]
    },
    {
     "cell_type": "markdown",
     "metadata": {},
     "source": [
      "##### Questions?"
     ]
    },
    {
     "cell_type": "code",
     "collapsed": false,
     "input": [
      "from IPython.core.display import HTML\n",
      "def css_styling():\n",
      "    styles = open(\"./styles/custom.css\", \"r\").read()\n",
      "    return HTML(styles)\n",
      "css_styling()"
     ],
     "language": "python",
     "metadata": {
      "slideshow": {
       "slide_type": "skip"
      }
     },
     "outputs": [
      {
       "html": [
        "<link href='http://fonts.googleapis.com/css?family=Fenix' rel='stylesheet' type='text/css'>\n",
        "<link href='http://fonts.googleapis.com/css?family=Alegreya+Sans:100,300,400,500,700,800,900,100italic,300italic,400italic,500italic,700italic,800italic,900italic' rel='stylesheet' type='text/css'>\n",
        "<link href='http://fonts.googleapis.com/css?family=Source+Code+Pro:300,400' rel='stylesheet' type='text/css'>\n",
        "<style>\n",
        "    @font-face {\n",
        "        font-family: \"Computer Modern\";\n",
        "        src: url('http://mirrors.ctan.org/fonts/cm-unicode/fonts/otf/cmunss.otf');\n",
        "    }\n",
        "    div.cell{\n",
        "        width:80%;\n",
        "        margin-left:auto !important;\n",
        "        margin-right:auto;\n",
        "    }\n",
        "    h1 {\n",
        "        font-family: 'Alegreya Sans', sans-serif;\n",
        "    }\n",
        "    h2 {\n",
        "        font-family: 'Fenix', serif;\n",
        "    }\n",
        "    h3{\n",
        "\t\tfont-family: 'Fenix', serif;\n",
        "        margin-top:12px;\n",
        "        margin-bottom: 3px;\n",
        "       }\n",
        "\th4{\n",
        "\t\tfont-family: 'Fenix', serif;\n",
        "       }\n",
        "    h5 {\n",
        "        font-family: 'Alegreya Sans', sans-serif;\n",
        "    }\t   \n",
        "    div.text_cell_render{\n",
        "        font-family: 'Alegreya Sans',Computer Modern, \"Helvetica Neue\", Arial, Helvetica, Geneva, sans-serif;\n",
        "        line-height: 1.2;\n",
        "        font-size: 160%;\n",
        "        width:70%;\n",
        "        margin-left:auto;\n",
        "        margin-right:auto;\n",
        "    }\n",
        "    .CodeMirror{\n",
        "            font-family: \"Source Code Pro\";\n",
        "\t\t\tfont-size: 90%;\n",
        "    }\n",
        "/*    .prompt{\n",
        "        display: None;\n",
        "    }*/\n",
        "    .text_cell_render h1 {\n",
        "        font-weight: 200;\n",
        "        font-size: 50pt;\n",
        "\t\tline-height: 100%;\n",
        "        color:#CD2305;\n",
        "        margin-bottom: 0.5em;\n",
        "        margin-top: 0.5em;\n",
        "        display: block;\n",
        "    }\t\n",
        "    .text_cell_render h5 {\n",
        "        font-weight: 300;\n",
        "        font-size: 16pt;\n",
        "        color: #CD2305;\n",
        "        font-style: italic;\n",
        "        margin-bottom: .5em;\n",
        "        margin-top: 0.5em;\n",
        "        display: block;\n",
        "    }\n",
        "    \n",
        "    .warning{\n",
        "        color: rgb( 240, 20, 20 )\n",
        "        }  \n",
        "</style>\n",
        "<script>\n",
        "    MathJax.Hub.Config({\n",
        "                        TeX: {\n",
        "                           extensions: [\"AMSmath.js\"]\n",
        "                           },\n",
        "                tex2jax: {\n",
        "                    inlineMath: [ ['$','$'], [\"\\\\(\",\"\\\\)\"] ],\n",
        "                    displayMath: [ ['$$','$$'], [\"\\\\[\",\"\\\\]\"] ]\n",
        "                },\n",
        "                displayAlign: 'center', // Change this to 'center' to center equations.\n",
        "                \"HTML-CSS\": {\n",
        "                    styles: {'.MathJax_Display': {\"margin\": 4}}\n",
        "                }\n",
        "        });\n",
        "</script>\n"
       ],
       "metadata": {},
       "output_type": "pyout",
       "prompt_number": 1,
       "text": [
        "<IPython.core.display.HTML at 0x104335990>"
       ]
      }
     ],
     "prompt_number": 1
    }
   ],
   "metadata": {}
  }
 ]
}