{
 "metadata": {
  "name": "",
  "signature": "sha256:c966a46f12c2c6b84bc01d6862aab6abe24ea2dc752500d0990380b3b0f0be1f"
 },
 "nbformat": 3,
 "nbformat_minor": 0,
 "worksheets": [
  {
   "cells": [
    {
     "cell_type": "heading",
     "level": 1,
     "metadata": {},
     "source": [
      "Table of contents"
     ]
    },
    {
     "cell_type": "markdown",
     "metadata": {},
     "source": [
      "**Course instructor: **\n",
      "Ivan Oseledes\n",
      "\n",
      "** TAs:**\n",
      "Maxim Rakhuba, Denis Kolesnikov, Evgeny Frolov"
     ]
    },
    {
     "cell_type": "markdown",
     "metadata": {},
     "source": [
      "| Week | Classes | Homework | Tests |\n",
      "|------|----------|----------|-------|\n",
      "|1| [Course syllabus](NLA_start.ipynb), [Python intro](Python_crash_course.ipynb) | [Problem set 1](problems/Pset1.ipynb)| \n",
      "|2| [Lecture 1, Matrices and vectors](lecture-1.ipynb)| [Problem set 2](problems/Pset2.ipynb)|\n",
      "| | [Lecture 2, norms](lecture-2.ipynb)| |\n",
      "| | [Lecture 3, matrix ranks](lecture-3.ipynb)| |\n",
      "|3| [Lecture 4, Linear systems](lecture-4.ipynb)| [Problem set 3](problems/Pset3.ipynb)|\n",
      "| | [Lecture 5, Eigenvalues and eigenvectors](lecture-5.ipynb)| |\n",
      "| | [Lecture 6, Matrix decompositions](lecture-6.ipynb)|  |\n",
      "|4| [Lecture 7, SVD and low-rank approximation](lecture-7.ipynb)  || Mid-term test [Variant 1](test1/1.pdf) [Variant 2](test1/2.pdf)\n",
      "|5| [Guest lecture](guest_lecture.pdf)| [Problem set 4](problems/Pset4.ipynb)| \n",
      "| | [Lecture 8, Sparse matrices](lecture-8.ipynb)| |\n",
      "| | [Lecture 9, Structured matrices](lecture-9.ipynb)| |\n",
      "|6| [Lecture 10, Iterative methods](lecture-10.ipynb)  | \n",
      "| | Lecture 11 | \n",
      "| |Ping-pong test \n",
      "|7| Ping-pong test\n",
      "| |Final test\n",
      "| | Arrear day | \n",
      "|8| Application period"
     ]
    },
    {
     "cell_type": "code",
     "collapsed": false,
     "input": [
      "from IPython.core.display import HTML\n",
      "def css_styling():\n",
      "    styles = open(\"./styles/custom.css\", \"r\").read()\n",
      "    return HTML(styles)\n",
      "css_styling()"
     ],
     "language": "python",
     "metadata": {},
     "outputs": [
      {
       "html": [
        "<link href='http://fonts.googleapis.com/css?family=Fenix' rel='stylesheet' type='text/css'>\n",
        "<link href='http://fonts.googleapis.com/css?family=Alegreya+Sans:100,300,400,500,700,800,900,100italic,300italic,400italic,500italic,700italic,800italic,900italic' rel='stylesheet' type='text/css'>\n",
        "<link href='http://fonts.googleapis.com/css?family=Source+Code+Pro:300,400' rel='stylesheet' type='text/css'>\n",
        "<style>\n",
        "    @font-face {\n",
        "        font-family: \"Computer Modern\";\n",
        "        src: url('http://mirrors.ctan.org/fonts/cm-unicode/fonts/otf/cmunss.otf');\n",
        "    }\n",
        "    div.cell{\n",
        "        /*width:80%;*/\n",
        "        /*margin-left:auto !important;\n",
        "        margin-right:auto;*/\n",
        "    }\n",
        "    h1 {\n",
        "        font-family: 'Alegreya Sans', sans-serif;\n",
        "    }\n",
        "    h2 {\n",
        "        font-family: 'Fenix', serif;\n",
        "    }\n",
        "    h3{\n",
        "\t\tfont-family: 'Fenix', serif;\n",
        "        margin-top:12px;\n",
        "        margin-bottom: 3px;\n",
        "       }\n",
        "\th4{\n",
        "\t\tfont-family: 'Fenix', serif;\n",
        "       }\n",
        "    h5 {\n",
        "        font-family: 'Alegreya Sans', sans-serif;\n",
        "    }\t   \n",
        "    div.text_cell_render{\n",
        "        font-family: 'Alegreya Sans',Computer Modern, \"Helvetica Neue\", Arial, Helvetica, Geneva, sans-serif;\n",
        "        line-height: 1.2;\n",
        "        font-size: 160%;\n",
        "        /*width:70%;*/\n",
        "        /*margin-left:auto;*/\n",
        "        margin-right:auto;\n",
        "    }\n",
        "    li {\n",
        "        line-height: 120%;\n",
        "    }\n",
        "    .CodeMirror{\n",
        "            font-family: \"Source Code Pro\";\n",
        "\t\t\tfont-size: 90%;\n",
        "    }\n",
        "/*    .prompt{\n",
        "        display: None;\n",
        "    }*/\n",
        "    .text_cell_render h1 {\n",
        "        font-weight: 200;\n",
        "        font-size: 50pt;\n",
        "\t\tline-height: 110%;\n",
        "        color:#CD2305;\n",
        "        margin-bottom: 0.5em;\n",
        "        margin-top: 0.5em;\n",
        "        display: block;\n",
        "    }\t\n",
        "    .text_cell_render h5 {\n",
        "        font-weight: 300;\n",
        "        font-size: 16pt;\n",
        "        color: #CD2305;\n",
        "        font-style: italic;\n",
        "        margin-bottom: .5em;\n",
        "        margin-top: 0.5em;\n",
        "        display: block;\n",
        "    }\n",
        "    \n",
        "    .warning{\n",
        "        color: rgb( 240, 20, 20 )\n",
        "        }  \n",
        "</style>\n",
        "<script>\n",
        "    MathJax.Hub.Config({\n",
        "                        TeX: {\n",
        "                           extensions: [\"AMSmath.js\"]\n",
        "                           },\n",
        "                tex2jax: {\n",
        "                    inlineMath: [ ['$','$'], [\"\\\\(\",\"\\\\)\"] ],\n",
        "                    displayMath: [ ['$$','$$'], [\"\\\\[\",\"\\\\]\"] ]\n",
        "                },\n",
        "                displayAlign: 'center', // Change this to 'center' to center equations.\n",
        "                \"HTML-CSS\": {\n",
        "                    styles: {'.MathJax_Display': {\"margin\": 4}}\n",
        "                }\n",
        "        });\n",
        "</script>\n"
       ],
       "metadata": {},
       "output_type": "pyout",
       "prompt_number": 7,
       "text": [
        "<IPython.core.display.HTML at 0x10267ebd0>"
       ]
      }
     ],
     "prompt_number": 7
    }
   ],
   "metadata": {}
  }
 ]
}
