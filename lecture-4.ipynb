{
 "metadata": {
  "celltoolbar": "Slideshow",
  "name": "",
  "signature": "sha256:8c78d00528ad06044143ea373265de8417edcc6b3d72522b8fde282cc2694bf3"
 },
 "nbformat": 3,
 "nbformat_minor": 0,
 "worksheets": [
  {
   "cells": [
    {
     "cell_type": "heading",
     "level": 1,
     "metadata": {
      "slideshow": {
       "slide_type": "slide"
      }
     },
     "source": [
      "Lecture 4: Linear systems"
     ]
    },
    {
     "cell_type": "markdown",
     "metadata": {
      "slideshow": {
       "slide_type": "slide"
      }
     },
     "source": [
      "## Syllabus\n",
      "**Week 1:** Python intro  \n",
      "**Week 2:** Matrices, vectors, norms, ranks  \n",
      "**Week 3:** Linear systems, eigenvectors, eigenvalues"
     ]
    },
    {
     "cell_type": "markdown",
     "metadata": {
      "slideshow": {
       "slide_type": "slide"
      }
     },
     "source": [
      "##Recap of the previous lecture\n",
      "- Scalar product\n",
      "- Unitary/orthogonal matrices and norm conservation\n",
      "- Matrix rank definition\n",
      "- Skeleton approximation and dyadic representation of a rank-$r$ matrix\n",
      "- Singular value decomposition"
     ]
    },
    {
     "cell_type": "markdown",
     "metadata": {
      "slideshow": {
       "slide_type": "slide"
      }
     },
     "source": [
      "## Today lecture\n",
      "Today we will talk about:\n",
      "- Linear systems, inverse matrices\n",
      "- Gaussian elimination\n",
      "- Sparse matrices\n",
      "- Condition numbers\n",
      "\n",
      "Before that I will spend a few minutes on certain techinal notes on the HW1. "
     ]
    },
    {
     "cell_type": "markdown",
     "metadata": {
      "slideshow": {
       "slide_type": "slide"
      }
     },
     "source": [
      "## Use numpy arrays in homework!\n",
      "-  Use \n",
      " ```\n",
      "     a = np.zeros((n, n)) #Note for the double brackets\n",
      " ```\n",
      " instead of\n",
      " ```\n",
      "     a = [[0 for i in xrange(n)] for j in xrange(n)]\n",
      " ```\n",
      " In this case you can not add arrays like\n",
      " ```\n",
      "     a = a + a\n",
      " ```\n",
      " and have to write down functions/cycles instead one line\n",
      " \n",
      "- Use numpy arrays indexing like ```a[i, j]``` instead of ```a[i][j]```\n",
      "- Use ```%matplotib inline``` and ```plt.plot()``` (without ```plt.show()```) in the Notebook\n",
      "- For code writing, there is a [PEP8 style guide for Python code](http://legacy.python.org/dev/peps/pep-0008/) - try to follow\n"
     ]
    },
    {
     "cell_type": "markdown",
     "metadata": {
      "slideshow": {
       "slide_type": "slide"
      }
     },
     "source": [
      "## Motivational video on algebra\n",
      "And before we start - a very simple and intuitive video on algebra. It also contains a short ove"
     ]
    },
    {
     "cell_type": "code",
     "collapsed": false,
     "input": [
      "from IPython.display import YouTubeVideo\n",
      "YouTubeVideo('8CX-Q0gtSp8')"
     ],
     "language": "python",
     "metadata": {},
     "outputs": [
      {
       "html": [
        "\n",
        "        <iframe\n",
        "            width=\"400\"\n",
        "            height=300\"\n",
        "            src=\"https://www.youtube.com/embed/8CX-Q0gtSp8\"\n",
        "            frameborder=\"0\"\n",
        "            allowfullscreen\n",
        "        ></iframe>\n",
        "        "
       ],
       "metadata": {},
       "output_type": "pyout",
       "prompt_number": 2,
       "text": [
        "<IPython.lib.display.YouTubeVideo at 0x104457a10>"
       ]
      }
     ],
     "prompt_number": 2
    },
    {
     "cell_type": "markdown",
     "metadata": {
      "slideshow": {
       "slide_type": "slide"
      }
     },
     "source": [
      "## Linear equations and matrices\n",
      "A linear system of equations can be written in the form\n",
      "\\begin{equation}\n",
      "\\begin{split}\n",
      "    &2 y + 3 x = 5 \\longrightarrow \\quad &2x + 3 y + 0 z = 5\\\\\n",
      "    &2 x + 3z = 5 \\longrightarrow\\quad &2 x + 0 y + 3 z = 5\\\\\n",
      "    &x + y = 2 \\longrightarrow\\quad  & 1 x + 1 y + 0 z = 0\\\\\n",
      "\\end{split}\n",
      "\\end{equation}"
     ]
    },
    {
     "cell_type": "markdown",
     "metadata": {
      "slideshow": {
       "slide_type": "fragment"
      }
     },
     "source": [
      "##Matrix form\n",
      "\n",
      "$$\n",
      "\\begin{pmatrix}\n",
      "2 & 3 & 0 \\\\\n",
      "2 & 0 & 3 \\\\\n",
      "0 & 1 & 1 \\\\\n",
      "\\end{pmatrix}\\begin{pmatrix}\n",
      "x \\\\\n",
      "y \\\\\n",
      "z \n",
      "\\end{pmatrix} = \n",
      "\\begin{pmatrix}\n",
      "5 \\\\\n",
      "5 \\\\\n",
      "0\n",
      "\\end{pmatrix}\n",
      "$$\n",
      "The \"matrix form\" is\n",
      "$$\n",
      "A x = f, \n",
      "$$\n",
      "\n",
      "where $A$ is a $3 \\times 3$ matrix."
     ]
    },
    {
     "cell_type": "markdown",
     "metadata": {
      "slideshow": {
       "slide_type": "slide"
      }
     },
     "source": [
      "## Linear systems in applications\n",
      "Linear systems are everywhere - in modelling, even if you have nonlinear systems, by **linearization** they are reduced to a sequence of linear systems. They appear in different applications:\n",
      "- Circuit modelling (Kirchoffs law)\n",
      "- Photonics (Maxwell equation, electrodynamics)\n",
      "- Computational fluid dynamics (Navier-Stokes equation)\n",
      "- +$\\infty$ more"
     ]
    },
    {
     "cell_type": "markdown",
     "metadata": {
      "slideshow": {
       "slide_type": "slide"
      }
     },
     "source": [
      "## Linear systems are big\n",
      "We take a continious problem, discretize on a mesh with $N$ elements and get a linear system.  \n",
      "Example of a mesh around A319 aircraft\n",
      "(taken from [GMSH website](http://geuz.org/gmsh/)).  \n",
      "<img src=\"a319_4.png\" width=50%>\n",
      "The main difficulty is that these systems are big: millions or billions of unknowns!"
     ]
    },
    {
     "cell_type": "markdown",
     "metadata": {
      "slideshow": {
       "slide_type": "slide"
      }
     },
     "source": [
      "## Linear systems are structured\n",
      "Storing $N^2$ elements of a matrix is prohibitive even for $N = 100000$. How to work with such matrices?  \n",
      "Fortunately, those matrices are **structured** and require $\\mathcal{O}(N)$ parameters to be stored.  \n",
      "The most widespread structure are **sparse matrices**: in the matrix there are $\\mathcal{O}(N)$ non-zeros!  \n",
      "Example (one of the famous matrices around for $n = 5$):\n",
      "$$\n",
      "  \\begin{pmatrix}\n",
      "  2 & -1 & 0 & 0 & 0 \\\\\n",
      "  -1 & 2 & -1 & 0 & 0 \\\\\n",
      "  0 & -1 & 2 & -1 & 0 \\\\\n",
      "  0 & 0 &-1& 2 & -1  \\\\\n",
      "  0 & 0 & 0 & -1 & 2 \\\\\n",
      "  \\end{pmatrix}\n",
      "$$\n",
      "At least you can store such matrices, and multiply by vector fast; but how to solve linear systems (and that is typically the final goal)."
     ]
    },
    {
     "cell_type": "markdown",
     "metadata": {
      "slideshow": {
       "slide_type": "slide"
      }
     },
     "source": [
      "## How to solve linear systems\n",
      "**Important**: forget about determinants and the **Cramer rule** (it is  are good for $2 \\times 2$ matrices still)."
     ]
    },
    {
     "cell_type": "markdown",
     "metadata": {
      "slideshow": {
       "slide_type": "fragment"
      }
     },
     "source": [
      "## How to solve linear systems\n",
      "\n",
      "The main tool is variable elimination. \n",
      "\\begin{equation}\n",
      "\\begin{split}\n",
      "    &2 y + 3 x = 5 \\longrightarrow \\quad &y = 5/2 -  3/2 x \\\\\n",
      "    &2 x + 3z = 5 \\longrightarrow\\quad &z = 5/3 - 2/3 x\\\\\n",
      "    &x + y = 2 \\longrightarrow\\quad  & 5/2 + 5/3 - (3/2 + 2/3) x = 2,\\\\\n",
      "\\end{split}\n",
      "\\end{equation}\n",
      "and that is how you find $x$ (and all previous ones).  \n",
      "This process is called **Gaussian elimination** and is one of the most widely used algorithms. "
     ]
    },
    {
     "cell_type": "markdown",
     "metadata": {
      "slideshow": {
       "slide_type": "slide"
      }
     },
     "source": [
      "## Gaussian elimination\n",
      "Gaussian elimination consists of two steps:\n",
      "1. Forward step\n",
      "2. Backward step"
     ]
    },
    {
     "cell_type": "markdown",
     "metadata": {
      "slideshow": {
       "slide_type": "fragment"
      }
     },
     "source": [
      "## Forward step\n",
      "In the forward step, we eliminate $x_1$:\n",
      "$$\n",
      "   x_1 = f_1 - (a_{12} x_2 + \\ldots + a_{1n} x_n)/a_{11},\n",
      "$$\n",
      "and then substitute this into the equations $2, \\ldots, n$. \n",
      "Then we eliminate $x_2$ and so on from the second equation. The important thing is that the **pivots** (that we divide over) are not equal to $0$."
     ]
    },
    {
     "cell_type": "markdown",
     "metadata": {
      "slideshow": {
       "slide_type": "fragment"
      }
     },
     "source": [
      "## Backward step\n",
      "In the backward step, we solve equation for $x_n$, put it into the equation for $x_{n-1}$ and so on, until we \n",
      "compute all $x_i, i=1,\\ldots, n$."
     ]
    },
    {
     "cell_type": "markdown",
     "metadata": {
      "slideshow": {
       "slide_type": "fragment"
      }
     },
     "source": [
      "## Complexity of the Gaussian elimination\n",
      "Each elimination step requires $\\mathcal{O}(n^2)$ operations. Thus, the cost of the naive algorithm is $\\mathcal{O}(n^3)$.  \n",
      "**Think a little bit**: Can Strassen help here? "
     ]
    },
    {
     "cell_type": "markdown",
     "metadata": {
      "slideshow": {
       "slide_type": "slide"
      }
     },
     "source": [
      "## A short demo\n",
      "Now we can do a short demo (with a Hilbert matrix)"
     ]
    },
    {
     "cell_type": "code",
     "collapsed": false,
     "input": [
      "import numpy as np\n",
      "import matplotlib.pyplot as plt\n",
      "%matplotlib inline\n",
      "\n",
      "n = 5\n",
      "a = [[1.0/(i + j + 1) for i in xrange(n)] for j in xrange(n)]\n",
      "a = np.array(a)\n",
      "rhs = np.ones(n) #Right-hand side\n",
      "x = np.linalg.solve(a, rhs)\n",
      "\n",
      "#And check if everything is fine\n",
      "er = np.linalg.norm(a.dot(x) - rhs) / np.linalg.norm(rhs)\n",
      "plt.xkcd()\n",
      "plt.plot(x)"
     ],
     "language": "python",
     "metadata": {},
     "outputs": [
      {
       "metadata": {},
       "output_type": "pyout",
       "prompt_number": 18,
       "text": [
        "[<matplotlib.lines.Line2D at 0x10e905390>]"
       ]
      },
      {
       "metadata": {},
       "output_type": "display_data",
       "png": "[encoded data removed]",
       "text": [
        "<matplotlib.figure.Figure at 0x10e77f7d0>"
       ]
      }
     ],
     "prompt_number": 18
    },
    {
     "cell_type": "markdown",
     "metadata": {
      "slideshow": {
       "slide_type": "fragment"
      }
     },
     "source": [
      "As you see, the error grows with larger $n$, and we have to find out why.  \n",
      "**Important point** is that it is not a problem of the algorithm: it is a problem of representing  \n",
      "the matrix in the memory. The error occurs in the moment when the matrix elements are evaluated approximately."
     ]
    },
    {
     "cell_type": "markdown",
     "metadata": {
      "slideshow": {
       "slide_type": "slide"
      }
     },
     "source": [
      "## Linear systems and inverse matrix\n",
      "What was the problem in the previous example? Why the error grows so quickly?  \n",
      "And here is one of the main concepts of numerical linear algebra: the concept of **condition number** of a matrix.  \n",
      "But before that we have to define the **inverse**. "
     ]
    },
    {
     "cell_type": "markdown",
     "metadata": {
      "slideshow": {
       "slide_type": "fragment"
      }
     },
     "source": [
      "The inverse of a matrix $A$ is defined as a matrix $X$ denoted by $A^{-1}$ such that  \n",
      "$$\n",
      "   AX = XA = I, \n",
      "$$\n",
      "where $I$ is the identity matrix (i.e., $I_{ij} = 0$ if $i \\ne j$ and $1$ otherwise).\n",
      "The computation of the inverse is linked to the solution of linear systems.  Indeed, $i$-th column of the product gives  \n",
      "$$\n",
      "A x_i = e_i,\n",
      "$$\n",
      "where $e_i$ is the $i$-th column of the identity matrix. Thus, we can apply Gaussian elimination to solve this system. Moreover, if there are no divisions by zero in this process (and the pivots do not depend on the right-hand side), the it is possible to solve the system.\n"
     ]
    },
    {
     "cell_type": "markdown",
     "metadata": {
      "slideshow": {
       "slide_type": "slide"
      }
     },
     "source": [
      "## Inverse matrix and linear systems\n",
      "If we have computed $A^{-1}$, the solution of linear system  \n",
      "$$Ax = f$$\n",
      "is just $x = A^{-1} f$.  \n",
      "Indeed,  \n",
      "$$   \n",
      "    A(A^{-1} f) = (AA^{-1})x = I x = f.\n",
      "$$"
     ]
    },
    {
     "cell_type": "markdown",
     "metadata": {
      "slideshow": {
       "slide_type": "slide"
      }
     },
     "source": [
      "## Neumann series \n",
      "To study, why there can be such big errors in a solution (see the example above on the Hilbert matrix)  we need an important auxilary result:  **Neumann series**:  \n",
      "If for a matrix $\\Vert F \\Vert < 1$ then the matrix $(I - F)$ is invertible and\n",
      "$$(I - F)^{-1} = I + F + F^2 + F^3 + \\ldots = \\sum_{k=0}^{\\infty} F^k.$$\n",
      "Note that it is a matrix version of the geometric progression. "
     ]
    },
    {
     "cell_type": "markdown",
     "metadata": {
      "slideshow": {
       "slide_type": "fragment"
      }
     },
     "source": [
      "##Proof\n",
      "The proof is constructive. First of all, the show prove that the series $\\sum_{k=0}^{\\infty} F^k$ converges.  \n",
      "Like in the scalar case, we have  \n",
      "$$\n",
      "   (I - F) \\sum_{k=0}^N F^k = (I - F^{N+1}) \\rightarrow I\n",
      "$$\n",
      "We can also estimate the **norm of the inverse**:\n",
      "$$\n",
      "  \\Vert \\sum_{k=0}^N F^k \\Vert \\leq \\sum_{k=0}^N \\Vert F \\Vert^k \\Vert I \\Vert = \\frac{\\Vert I \\Vert}{I - \\Vert F \\Vert} \n",
      "$$"
     ]
    },
    {
     "cell_type": "markdown",
     "metadata": {
      "slideshow": {
       "slide_type": "fragment"
      }
     },
     "source": [
      "## Small perturbation of the inverse\n",
      "Using this result, we can estimate, how the perturbation of the matrix influences the inverse matrix. We assume\n",
      "that the perturbatin $E$ is small in the sense that $\\Vert A^{-1} E \\Vert < 1$. Then\n",
      "$$(A + E)^{-1} = \\sum_{k=0}^{\\infty} (-A^{-1} E)^k A^{-1}$$\n",
      "and moreover, \n",
      "$$\n",
      "  \\frac{\\Vert (A + E)^{-1} - A^{-1} \\Vert}{\\Vert A^{-1} \\Vert} \\leq \\frac{\\Vert A^{-1} \\Vert \\Vert E \\Vert}{1 - \\Vert A^{-1} E \\Vert}.\n",
      "$$\n",
      "As you see, the norm of the inverse enters the estimate."
     ]
    },
    {
     "cell_type": "markdown",
     "metadata": {
      "slideshow": {
       "slide_type": "slide"
      }
     },
     "source": [
      "## Condition number of a linear system\n",
      "Now consider the **perturbed** linear system:\n",
      "$$\n",
      "   (A + \\Delta A) \\widehat{x} = f + \\Delta f.\n",
      "$$\n",
      "Then the algebra begins!"
     ]
    },
    {
     "cell_type": "markdown",
     "metadata": {
      "slideshow": {
       "slide_type": "fragment"
      }
     },
     "source": [
      "##Estimates\n",
      "$\\widehat{x} - x = (A + \\Delta A)^{-1} (f + \\delta f) - A^{-1} f = ((A + \\Delta A)^{-1} - A^{-1})f + (A + \\Delta A)^{-1} \\Delta f = $  \n",
      "$ = \\Big[\\sum_{k=0}^{\\infty} (-A^{-1} \\Delta A)^k\\Big] A^{-1} f + \\Big[\\sum_{k=0}^{\\infty} (A^{-1} \\Delta A)^k \\Big] A^{-1} \\Delta f,$  \n",
      "therefore\n",
      "$\\frac{\\Vert \\widehat{x} - x \\Vert}{\\Vert x \\Vert} \\leq \\frac{\\Vert A \\Vert \\Vert A^{-1} \\Vert}{1 - \\Vert A^{-1}\\Delta A\\Vert}\\Big(\\frac{\\Vert\\Delta A\\Vert}{\\Vert A \\Vert} + \\frac{\\Vert \\Delta f \\Vert}{ \\Vert f \\Vert}\\Big)$.\n",
      "\n",
      "The crucial role is played by the **condition number** $\\mathrm{cond}(A) = \\Vert A \\Vert \\Vert A^{-1} \\Vert$.  \n",
      "The larger the condition number, the less number of digits we can recover.  "
     ]
    },
    {
     "cell_type": "markdown",
     "metadata": {
      "slideshow": {
       "slide_type": "fragment"
      }
     },
     "source": [
      "The spectral norm of the matrix is equal to **largest singular value**, and the singular values of the inverse matrix are equal to the inverses of the singular values.  Thus,  the condition number is equal to the ratio of the largest singular value and the smallest singular value.\n",
      "$$\n",
      "    \\mathrm{cond(A)} = \\frac{\\sigma_{\\max}}{\\sigma_{\\min}}\n",
      "$$"
     ]
    },
    {
     "cell_type": "markdown",
     "metadata": {
      "slideshow": {
       "slide_type": "slide"
      }
     },
     "source": [
      "## Hilbert matrix (again)\n",
      "We can also try to test how tight is the estimate, both with ones in the right-hand side, and with a random vector in the right-hand side. The results are strickingly different"
     ]
    },
    {
     "cell_type": "code",
     "collapsed": false,
     "input": [
      "import numpy as np\n",
      "import matplotlib.pyplot as plt\n",
      "%matplotlib inline\n",
      "\n",
      "\n",
      "n = 20\n",
      "a = [[1.0/(i + j + 1) for i in xrange(n)] for j in xrange(n)]\n",
      "a = np.array(a)\n",
      "rhs = np.ones(n) #Right-hand side\n",
      "f = np.linalg.solve(a, rhs)\n",
      "\n",
      "#And check if everything is fine\n",
      "er = np.linalg.norm(a.dot(f) - rhs) / np.linalg.norm(rhs)\n",
      "cn = np.linalg.cond(a)\n",
      "print 'Error:', er, 'Condition number:', cn"
     ],
     "language": "python",
     "metadata": {},
     "outputs": [
      {
       "output_type": "stream",
       "stream": "stdout",
       "text": [
        "Error: 2.23517417908e-08 Condition number: 1.53157559936e+18\n"
       ]
      }
     ],
     "prompt_number": 14
    },
    {
     "cell_type": "markdown",
     "metadata": {
      "slideshow": {
       "slide_type": "fragment"
      }
     },
     "source": [
      "And with random right-hand side..."
     ]
    },
    {
     "cell_type": "code",
     "collapsed": false,
     "input": [
      "import numpy as np\n",
      "import matplotlib.pyplot as plt\n",
      "%matplotlib inline\n",
      "\n",
      "n = 20\n",
      "a = [[1.0/(i + j + 1) for i in xrange(n)] for j in xrange(n)]\n",
      "a = np.array(a)\n",
      "rhs = np.random.randn(n) #Right-hand side\n",
      "f = np.linalg.solve(a, rhs)\n",
      "\n",
      "#And check if everything is fine\n",
      "er = np.linalg.norm(a.dot(f) - rhs) / np.linalg.norm(rhs)\n",
      "cn = np.linalg.cond(a)\n",
      "print 'Error:', er, 'Condition number:', cn"
     ],
     "language": "python",
     "metadata": {},
     "outputs": [
      {
       "output_type": "stream",
       "stream": "stdout",
       "text": [
        "Error: 2.23517417908e-08 Condition number: 1.53157559936e+18\n"
       ]
      }
     ],
     "prompt_number": 14
    },
    {
     "cell_type": "markdown",
     "metadata": {
      "slideshow": {
       "slide_type": "fragment"
      }
     },
     "source": [
      "** Can you think about an explanation?**  "
     ]
    },
    {
     "cell_type": "markdown",
     "metadata": {
      "slideshow": {
       "slide_type": "slide"
      }
     },
     "source": [
      "Todays lecture\n",
      "- Gaussian elimination\n",
      "- Condition number"
     ]
    },
    {
     "cell_type": "markdown",
     "metadata": {
      "slideshow": {
       "slide_type": "slide"
      }
     },
     "source": [
      "##### Questions?"
     ]
    },
    {
     "cell_type": "code",
     "collapsed": false,
     "input": [
      "from IPython.core.display import HTML\n",
      "def css_styling():\n",
      "    styles = open(\"./styles/custom.css\", \"r\").read()\n",
      "    return HTML(styles)\n",
      "css_styling()"
     ],
     "language": "python",
     "metadata": {
      "slideshow": {
       "slide_type": "skip"
      }
     },
     "outputs": [
      {
       "html": [
        "<link href='http://fonts.googleapis.com/css?family=Fenix' rel='stylesheet' type='text/css'>\n",
        "<link href='http://fonts.googleapis.com/css?family=Alegreya+Sans:100,300,400,500,700,800,900,100italic,300italic,400italic,500italic,700italic,800italic,900italic' rel='stylesheet' type='text/css'>\n",
        "<link href='http://fonts.googleapis.com/css?family=Source+Code+Pro:300,400' rel='stylesheet' type='text/css'>\n",
        "<style>\n",
        "    @font-face {\n",
        "        font-family: \"Computer Modern\";\n",
        "        src: url('http://mirrors.ctan.org/fonts/cm-unicode/fonts/otf/cmunss.otf');\n",
        "    }\n",
        "    div.cell{\n",
        "        /*width:80%;*/\n",
        "        /*margin-left:auto !important;\n",
        "        margin-right:auto;*/\n",
        "    }\n",
        "    h1 {\n",
        "        font-family: 'Alegreya Sans', sans-serif;\n",
        "    }\n",
        "    h2 {\n",
        "        font-family: 'Fenix', serif;\n",
        "    }\n",
        "    h3{\n",
        "\t\tfont-family: 'Fenix', serif;\n",
        "        margin-top:12px;\n",
        "        margin-bottom: 3px;\n",
        "       }\n",
        "\th4{\n",
        "\t\tfont-family: 'Fenix', serif;\n",
        "       }\n",
        "    h5 {\n",
        "        font-family: 'Alegreya Sans', sans-serif;\n",
        "    }\t   \n",
        "    div.text_cell_render{\n",
        "        font-family: 'Alegreya Sans',Computer Modern, \"Helvetica Neue\", Arial, Helvetica, Geneva, sans-serif;\n",
        "        line-height: 1.2;\n",
        "        font-size: 160%;\n",
        "        /*width:70%;*/\n",
        "        /*margin-left:auto;*/\n",
        "        margin-right:auto;\n",
        "    }\n",
        "    .CodeMirror{\n",
        "            font-family: \"Source Code Pro\";\n",
        "\t\t\tfont-size: 90%;\n",
        "    }\n",
        "/*    .prompt{\n",
        "        display: None;\n",
        "    }*/\n",
        "    .text_cell_render h1 {\n",
        "        font-weight: 200;\n",
        "        font-size: 50pt;\n",
        "\t\tline-height: 100%;\n",
        "        color:#CD2305;\n",
        "        margin-bottom: 0.5em;\n",
        "        margin-top: 0.5em;\n",
        "        display: block;\n",
        "    }\t\n",
        "    .text_cell_render h5 {\n",
        "        font-weight: 300;\n",
        "        font-size: 16pt;\n",
        "        color: #CD2305;\n",
        "        font-style: italic;\n",
        "        margin-bottom: .5em;\n",
        "        margin-top: 0.5em;\n",
        "        display: block;\n",
        "    }\n",
        "    \n",
        "    .warning{\n",
        "        color: rgb( 240, 20, 20 )\n",
        "        }  \n",
        "</style>\n",
        "<script>\n",
        "    MathJax.Hub.Config({\n",
        "                        TeX: {\n",
        "                           extensions: [\"AMSmath.js\"]\n",
        "                           },\n",
        "                tex2jax: {\n",
        "                    inlineMath: [ ['$','$'], [\"\\\\(\",\"\\\\)\"] ],\n",
        "                    displayMath: [ ['$$','$$'], [\"\\\\[\",\"\\\\]\"] ]\n",
        "                },\n",
        "                displayAlign: 'center', // Change this to 'center' to center equations.\n",
        "                \"HTML-CSS\": {\n",
        "                    styles: {'.MathJax_Display': {\"margin\": 4}}\n",
        "                }\n",
        "        });\n",
        "</script>\n"
       ],
       "metadata": {},
       "output_type": "pyout",
       "prompt_number": 1,
       "text": [
        "<IPython.core.display.HTML at 0x104457990>"
       ]
      }
     ],
     "prompt_number": 1
    }
   ],
   "metadata": {}
  }
 ]
}