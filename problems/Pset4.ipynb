{
 "metadata": {
  "name": "",
  "signature": "sha256:6fdfd632a32b15ceb4ea2663ebcf5af9963266ebdf2e257b25a9517b716ec27e"
 },
 "nbformat": 3,
 "nbformat_minor": 0,
 "worksheets": [
  {
   "cells": [
    {
     "cell_type": "markdown",
     "metadata": {},
     "source": [
      "##Problem 1 Poisson equation (Sparse matrices)\n",
      "\n",
      "Consider a 2D Poisson equation\n",
      "$$\n",
      "\\Delta u \\equiv \\frac{\\partial^2 u}{\\partial x^2} + \\frac{\\partial^2 u}{\\partial y^2} = f, \\quad (x,y)\\in [0,1]^2\n",
      "$$ \n",
      "with boundary conditions as follows\n",
      "$$\n",
      "u\\big|_{x=0} = 0, \\quad  u\\big|_{x=1} = 0, \\quad \\frac{\\partial u}{\\partial y} \\big|_{y=0} = 0, \\quad \\frac{\\partial u}{\\partial y}\\big|_{y=1} = 0,\n",
      "$$\n",
      "with known function $f$ and unknown $u$.\n",
      "Choose $f(x,y)$ such that $\\sin\\pi x \\cos \\pi y $ is a solution.\n",
      "\n",
      " - (2 pts) Introduce a uniform grid with $N$ steps in each direction. Discretize equation via the 5-point stencil. Write down matrix $A_h$ of the linear system using Kronecker product properties ($h$ is a mesh step).  **Note:** To discretize Neumann boundary condition use first order approximation of a derivative\n",
      "\n",
      "\n",
      "- (1 pts) Solve the system via the direct sparse solver (use standard functions in Python). Plot the solution\n",
      "\n",
      "\n",
      "- (2 pts) Plot error as a function of $h$. Find numerically order of convergence\n",
      "\n",
      "\n",
      "- (3 pts) Solve the system via an appropriate Krylov method with and without ILU preconditioner (use standard functions in Python). Compare their timings\n",
      "\n",
      "\n",
      "- (2 pts) Compare timings for the direct solver and the preconditioned iterative Krylov method. Vary $N$ up to $512$\n",
      "\n",
      "\n",
      "- (bonus) Find analytically eigenvalues of the matrix $A_h$ and prove that $\\text{cond}( A_h )= \\mathcal{O}\\left(\\frac{1}{h^2}\\right)$"
     ]
    },
    {
     "cell_type": "code",
     "collapsed": false,
     "input": [],
     "language": "python",
     "metadata": {},
     "outputs": [],
     "prompt_number": 1
    },
    {
     "cell_type": "markdown",
     "metadata": {},
     "source": [
      "##Problem 2 First kind Fredholm equation (Structured matrices)\n",
      "\n",
      "Consider a 1D first kind Fredholm equation \n",
      "$$\n",
      "\\left( Au \\right)(x)\\equiv \\int_0^1 K(x,y) u(y) dy = f(x),\\quad x\\in [0,1]   \\quad  (1)\n",
      "$$\n",
      "with known functions $K(x,y)$, $f(x)$ and unknown $u(x)$.\n",
      "\n",
      " - (2 pts) Set $K(x,y) = \\sqrt{|x-y|}$ and choose $f(x)$ such that $u(x) = 1$ is a solution.\n",
      "Discretize this equation on a uniform grid by Nystrom method. What type of matrix does this linear system have? **Note:** Nystrom method: $\\int_0^1 K(x_i,y) u(y) dy \\approx \\sum_j h K(x_i,y_j) u(y_j)$, where $x_i, y_j$ are points of 1D  grids and $h$ is a grid step\n",
      "\n",
      "\n",
      " - (3 pts) Implement matvec function which multiplies Toeplitz matrix by\n",
      "vector with $\\mathcal{O}(N \\log N)$ complexity.  \n",
      "\n",
      "\n",
      " - (3 pts) By giving this\n",
      "function instead of the whole matrix to an appropriate Krylov solver in Python find the\n",
      "solution of (1) and compare timings with Krylov solver without fast matvec (vary $N$ up to 2048). **Note:** set tolerance level $10^{-9}$ in the Krylov solver\n",
      "\n",
      "\n",
      "- (1 pt) Add random noise with amplitude $\\delta = 10^{-4}h$ to the right hand side $f$ and plot the solution. Explain the result\n",
      "\n",
      "\n",
      "- (2 pts) Regularize (1) by truncating singular values. Plot solutions for different truncation levels via widgets animation (find example below). Comment on the results"
     ]
    },
    {
     "cell_type": "code",
     "collapsed": false,
     "input": [
      "#http://nbviewer.ipython.org/github/ipython/ipython/blob/master/examples/Interactive%20Widgets/Using%20Interact.ipynb\n",
      "%matplotlib inline\n",
      "\n",
      "from IPython.html.widgets import interact\n",
      "from IPython.display import display\n",
      "\n",
      "import matplotlib.pyplot as plt\n",
      "import numpy as np\n",
      "\n",
      "fig, ax = plt.subplots()\n",
      "plt.close(fig)\n",
      "\n",
      "def set_cursor(x):\n",
      "    ax.clear()\n",
      "    ax.set_xlim([0, np.pi])\n",
      "    ax.set_ylim([-1, 1])\n",
      "    x1 = np.linspace(0,np.pi,50)\n",
      "    ax.plot(x1, np.sin(x * x1))\n",
      "    display(fig)\n",
      "\n",
      "interact(set_cursor, x=(1., 2., 0.1))"
     ],
     "language": "python",
     "metadata": {},
     "outputs": [
      {
       "metadata": {},
       "output_type": "display_data",
       "png": "[encoded data removed]",
       "text": [
        "<matplotlib.figure.Figure at 0x10bb5d7d0>"
       ]
      },
      {
       "metadata": {},
       "output_type": "pyout",
       "prompt_number": 3,
       "text": [
        "<function __main__.set_cursor>"
       ]
      }
     ],
     "prompt_number": 3
    },
    {
     "cell_type": "code",
     "collapsed": false,
     "input": [],
     "language": "python",
     "metadata": {},
     "outputs": []
    },
    {
     "cell_type": "markdown",
     "metadata": {},
     "source": [
      "##Problem 3 Matrix exponential\n",
      "\n",
      "Consider the following time dependent equation in 2D\n",
      "$$\n",
      "  \\frac{\\partial u}{\\partial t} = \\Delta u, \\quad (x,y)\\in \\mathbb{R}^2, \\quad t\\in [0,1]\n",
      "$$\n",
      "$$\n",
      "   u(x,y)\\big|_{t=0} = \\exp{(- x^2 - y^2)},\n",
      "$$\n",
      "with the boundary conditions (here we replace the whole $\\mathbb{R}^2$ by $[-10,10]^2$ square )\n",
      "$$\n",
      "u\\big|_{x=-10} = 0, \\quad  u\\big|_{x=10} = 0, \\quad \\frac{\\partial u}{\\partial y} \\big|_{y=-10} = 0, \\quad \\frac{\\partial u}{\\partial y}\\big|_{y=10} = 0,\n",
      "$$\n",
      "Spatial discretization looks as follows\n",
      "$$\n",
      "\\frac{du_h}{dt} = A_h u_h,\n",
      "$$\n",
      "where $A_h\\in \\mathbb{R}^{256^2 \\times 256^2}$ is a matrix from the Problem 1. To solve this equation one can use several approaches:\n",
      "\n",
      "**Explicit scheme (Euler scheme)**\n",
      "$$\n",
      "\\frac{u_h^{i+1} - u_h^{i}}{\\tau} = A_h u_h^{i}, \\quad i=1,\\dots,N_\\tau, \\quad N_\\tau \\tau = 1\n",
      "$$\n",
      "\n",
      "**Implicit scheme** \n",
      "$$\n",
      "\\frac{u_h^{i+1} - u_h^{i}}{\\tau} = A_h u_h^{i+1}, \\quad i=1,\\dots,N_\\tau, \\quad N_\\tau \\tau = 1\n",
      "$$\n",
      "\n",
      "**Matrix exponential**\n",
      "$$\n",
      "u_h(t) = e^{At}u_h(0)\n",
      "$$\n",
      "\n",
      "- (1 pt) Name advantages and disadvantages of the decribed methods\n",
      "\n",
      "\n",
      "- (2 pts) Implement the explicit scheme. Plot $u_h(1)$ for several $\\tau$ (stable and unstable cases). Find maximum possible $\\tau$ when the scheme is still stable\n",
      "\n",
      "\n",
      "- (2 pts) Implement the implicit scheme. Plot $u_h(1)$ for several $\\tau$. Is this scheme absolute stable?\n",
      "\n",
      "\n",
      "- (1 pt) Find $u_h(1)$ via matrix exponential ($\\verb|expm_multiply|$ in Python). Plot $u_h(1)$\n",
      "\n",
      "\n",
      "- (1 pt) Compare timings for these 3 schemes"
     ]
    },
    {
     "cell_type": "code",
     "collapsed": false,
     "input": [],
     "language": "python",
     "metadata": {},
     "outputs": []
    }
   ],
   "metadata": {}
  }
 ]
}