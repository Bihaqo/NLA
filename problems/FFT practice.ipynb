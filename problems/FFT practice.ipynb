{
 "metadata": {
  "name": "",
  "signature": "sha256:5ef510d36e2750d9c0b622bdfbef3c8d57e6e7f2a6dfe17413d7655168d40829"
 },
 "nbformat": 3,
 "nbformat_minor": 0,
 "worksheets": [
  {
   "cells": [
    {
     "cell_type": "markdown",
     "metadata": {},
     "source": [
      "**Task 1:** Create Fourier matrix $F = \\{ \\omega^{kl}\\}_{k,l=0}^{n-1}$, where $\\omega = \\text{exp}\\left(-\\frac{2\\pi i}{n}\\right)$ and check that $\\frac{1}{\\sqrt{n}} F$ is unitary\n",
      "\n",
      "**Note:**\n",
      "- $\\pi= \\verb|np.pi|$\n",
      "- $\\verb|1j|$ is the imaginary unit \n",
      "- Hermitian conjugation cosists of $\\verb|np.transpose|$ and $\\verb|np.conjugate|$"
     ]
    },
    {
     "cell_type": "code",
     "collapsed": false,
     "input": [],
     "language": "python",
     "metadata": {},
     "outputs": []
    },
    {
     "cell_type": "markdown",
     "metadata": {},
     "source": [
      "**Task 2:** Create a random vector $x$ of size n. Using $\\verb|%timeit|$ compare timings of $\\verb|np.fft.fft(x)|$ and $\\verb|np.dot(F, x)|$. Compare the results using $\\verb|np.linalg.norm|$"
     ]
    },
    {
     "cell_type": "code",
     "collapsed": false,
     "input": [],
     "language": "python",
     "metadata": {},
     "outputs": []
    },
    {
     "cell_type": "markdown",
     "metadata": {},
     "source": [
      "**Task 3:** Create a circulant matrix $C$ using $\\verb|scipy.linalg.circulant(c)|$, where $c$ is the first column of $C$. Check that $C = F^{-1} \\text{diag}(Fc) F$ \n",
      "\n",
      "**Note:** Choose $c = [1,2,3,...]$"
     ]
    },
    {
     "cell_type": "code",
     "collapsed": false,
     "input": [],
     "language": "python",
     "metadata": {},
     "outputs": []
    },
    {
     "cell_type": "markdown",
     "metadata": {},
     "source": [
      "**Task 4:** Implement fast matvec product $Cx$ (convolution operation) using the fact that $Cx = F^{-1} \\text{diag}(Fc) Fx$. Compare timings to direct $Cx$ multiplication \n",
      "\n",
      "**Note:** Do not use $\\verb|np.dot|$ which is slow! Use only $\\verb|np.fft.fft|$ and $\\verb|np.fft.ifft|$ fucntions!"
     ]
    },
    {
     "cell_type": "code",
     "collapsed": false,
     "input": [],
     "language": "python",
     "metadata": {},
     "outputs": []
    }
   ],
   "metadata": {}
  }
 ]
}